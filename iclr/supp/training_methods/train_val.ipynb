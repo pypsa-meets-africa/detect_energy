{
  "cells": [
    {
      "cell_type": "code",
      "execution_count": null,
      "metadata": {
        "colab": {
          "base_uri": "https://localhost:8080/"
        },
        "id": "ag4-IkJnXwKj",
        "outputId": "632cf990-062e-44ea-d0e6-ab6cf66218d7"
      },
      "outputs": [],
      "source": [
        "from google.colab import drive\n",
        "drive.mount(\"/content/drive/\", force_remount=True)"
      ]
    },
    {
      "cell_type": "code",
      "execution_count": null,
      "metadata": {
        "colab": {
          "base_uri": "https://localhost:8080/",
          "height": 1000
        },
        "id": "J-y_QCMNQbtF",
        "outputId": "66dccaad-611a-468c-a8f5-f48277801268"
      },
      "outputs": [],
      "source": [
        "!pip install pyyaml==5.1\n",
        "#!pip uninstall torch\n",
        "!pip uninstall detectron2\n",
        "!pip install torch==1.9.0+cu102 torchvision==0.10.0+cu102 -f https://download.pytorch.org/whl/torch_stable.html\n",
        "!pip install detectron2 -f https://dl.fbaipublicfiles.com/detectron2/wheels/cu102/torch1.9/index.html"
      ]
    },
    {
      "cell_type": "code",
      "execution_count": null,
      "metadata": {
        "id": "YNu1w5frQg39"
      },
      "outputs": [],
      "source": [
        "from pathlib import Path\n",
        "import os\n",
        "import sys\n",
        "import numpy as np\n",
        "\n",
        "base = ...\n",
        "\n",
        "from dataset_utils import register\n",
        "from augmentation_utils import DatasetMapperAugment, OurTrainer"
      ]
    },
    {
      "cell_type": "code",
      "execution_count": null,
      "metadata": {
        "colab": {
          "base_uri": "https://localhost:8080/"
        },
        "id": "YUbjCWDxQjwD",
        "outputId": "73d7b8ac-4403-4311-fdd0-8bc595b6e1b0"
      },
      "outputs": [],
      "source": [
        "datasets_path = base / 'datasets'\n",
        "os.listdir(datasets_path / \"fixed_mixup_train\")"
      ]
    },
    {
      "cell_type": "code",
      "execution_count": null,
      "metadata": {
        "id": "WuEFIiecQm0N"
      },
      "outputs": [],
      "source": [
        "register(\"fixed_mixup_train\",\n",
        "         datasets_path / \"fixed_mixup_train\" / \"fixed_subset_labels.json\",\n",
        "         datasets_path / \"fixed_mixup_train\" / \"subsets\")\n",
        "register(\"smaller_fake_australia_val\",\n",
        "         datasets_path / \"smaller_fake_australia_val\" / \"labels.json\",\n",
        "         datasets_path / \"smaller_fake_australia_val\" / \"data\")\n",
        "register(\"smaller_fake_australia_train\",\n",
        "         datasets_path / \"smaller_fake_australia_train\" / \"labels.json\",\n",
        "         datasets_path / \"fake_australia_train\")\n",
        "register(\"smaller_fake_bangladesh_train\",\n",
        "         datasets_path / \"smaller_fake_bangladesh_train\" / \"labels.json\",\n",
        "         datasets_path / \"smaller_fake_bangladesh_train\" / \"data\")\n",
        "register(\"australia_val\",\n",
        "         datasets_path / \"australia_val\" / \"labels.json\",\n",
        "         datasets_path / \"australia_val\" / \"data\")\n",
        "register(\"smaller_bangladesh_val\",\n",
        "         datasets_path / \"smaller_bangladesh_val\" / \"labels.json\",\n",
        "         datasets_path / \"smaller_bangladesh_val\" / \"data\")\n",
        "register(\"duke_train\",\n",
        "         datasets_path / \"duke_train\" / \"labels.json\",\n",
        "         datasets_path / \"duke_train\" / \"data\")\n",
        "register(\"smaller_duke_train\",\n",
        "         datasets_path / \"smaller_duke_train\" / \"labels.json\",\n",
        "         datasets_path / \"smaller_duke_train\" / \"data\")\n",
        "register(\"smaller_duke_val\",\n",
        "         datasets_path / \"smaller_duke_val\" / \"labels.json\",\n",
        "         datasets_path / \"smaller_duke_val\" / \"data\")\n",
        "register(\"duke_val\",\n",
        "         datasets_path / \"duke_val\" / \"labels.json\",\n",
        "         datasets_path / \"duke_val\" / \"data\")"
      ]
    },
    {
      "cell_type": "code",
      "execution_count": null,
      "metadata": {
        "colab": {
          "base_uri": "https://localhost:8080/",
          "height": 1000
        },
        "id": "QJvgBUThQuPp",
        "outputId": "3af00a3c-9b62-432c-8776-7affa02763cb"
      },
      "outputs": [],
      "source": [
        "from detectron2.config import get_cfg\n",
        "from detectron2 import model_zoo\n",
        "\n",
        "cfg = get_cfg()\n",
        "cfg.merge_from_file(model_zoo.get_config_file(\"COCO-Detection/faster_rcnn_R_50_FPN_3x.yaml\"))\n",
        "\n",
        "cfg.MODEL.ROI_HEADS.NUM_CLASSES = 1\n",
        "\n",
        "cfg.OUTPUT_DIR = str(base / \"results\" / (\"run_\"+str(np.random.randint(0, 10000))))\n",
        "\n",
        "print(f\"FIND EXPERIMENT RESULTS AT \\n {cfg.OUTPUT_DIR}\")\n",
        "\n",
        "os.makedirs(cfg.OUTPUT_DIR, exist_ok=True)\n",
        "\n",
        "cfg.SOLVER.MAX_ITER = 4000\n",
        "cfg.TEST.INTERVAL = 3999\n",
        "cfg.SOLVER.STEPS = (4500, 5250)\n",
        "cfg.SOLVER.IMS_PER_BATCH = 8\n",
        "\n",
        "cfg.SOLVER.STRONG_AUGMENT = False\n",
        "\n",
        "cfg.DATASETS.TRAIN = (\"duke_train\")\n",
        "cfg.DATASETS.EVAL = [\"duke_val\"]\n",
        "cfg.DATASETS.TEST = []\n",
        "\n",
        "trainer = OurTrainer(cfg)\n",
        "trainer.resume_or_load(resume=False)\n",
        "trainer.train()\n",
        "\n",
        "os.rename(cfg.OUTPUT_DIR, cfg.OUTPUT_DIR + \"_\" + cfg.DATASETS.TRAIN + cfg.DATASETS.EVAL[-1] + f\"_strong_augment_{cfg.SOLVER.STRONG_AUGMENT}_complete\")"
      ]
    }
  ],
  "metadata": {
    "colab": {
      "machine_shape": "hm",
      "provenance": []
    },
    "gpuClass": "standard",
    "kernelspec": {
      "display_name": "Python 3",
      "language": "python",
      "name": "python3"
    },
    "language_info": {
      "name": "python",
      "version": "3.8.0 (tags/v3.8.0:fa919fd, Oct 14 2019, 19:37:50) [MSC v.1916 64 bit (AMD64)]"
    },
    "vscode": {
      "interpreter": {
        "hash": "ffdb0c89cc842367a93be6eb468afe23766ac3749a570c7a1ecbb8f757cdd35d"
      }
    }
  },
  "nbformat": 4,
  "nbformat_minor": 0
}
